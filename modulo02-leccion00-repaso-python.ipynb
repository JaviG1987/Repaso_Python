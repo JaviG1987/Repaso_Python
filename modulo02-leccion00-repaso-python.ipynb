{
 "cells": [
  {
   "cell_type": "markdown",
   "metadata": {},
   "source": [
    "## 1. `lista_digitos()`\n",
    "Dado un número entero positivo, convierte el número en una lista donde cada elemento es un dígito del número original, pero en orden inverso. \n",
    "\n",
    "**Input:**\n",
    "- Un número entero, por ejemplo: `348597`\n",
    "\n",
    "**Output esperado:**\n",
    "- Una lista de enteros con los dígitos en orden inverso, por ejemplo: `[7, 9, 5, 8, 4, 3]`"
   ]
  },
  {
   "cell_type": "code",
   "execution_count": 7,
   "metadata": {},
   "outputs": [
    {
     "data": {
      "text/plain": [
       "[7, 9, 5, 8, 4, 3]"
      ]
     },
     "execution_count": 7,
     "metadata": {},
     "output_type": "execute_result"
    }
   ],
   "source": [
    "input = 348597\n",
    "\n",
    "def lista_digitos(numero):\n",
    "  texto = str(numero)\n",
    "  lista = texto [::-1]\n",
    "  lista = list(lista)\n",
    "  lista_vacia = []\n",
    "  for i in lista:\n",
    "    lista_vacia.append (int(i))\n",
    "  return lista_vacia\n",
    "\n",
    "lista_digitos (input)\n"
   ]
  },
  {
   "cell_type": "markdown",
   "metadata": {},
   "source": [
    "## 2. `formatear_nombre()`\n",
    "Dada una lista de nombres escritos en minúsculas o con letras mayúsculas y minúsculas mezcladas, devuelve una nueva lista donde cada nombre está capitalizado correctamente (solo la primera letra en mayúscula).\n",
    "\n",
    "**Input:**\n",
    "- Una lista de strings, por ejemplo: `[\"ana\", \"jUAn\", \"LuIs\"]`\n",
    "\n",
    "**Output esperado:**\n",
    "- Una lista de strings capitalizados, por ejemplo: `[\"Ana\", \"Juan\", \"Luis\"]`"
   ]
  },
  {
   "cell_type": "code",
   "execution_count": 15,
   "metadata": {},
   "outputs": [
    {
     "data": {
      "text/plain": [
       "['Ana', 'Juan', 'Luis']"
      ]
     },
     "execution_count": 15,
     "metadata": {},
     "output_type": "execute_result"
    }
   ],
   "source": [
    "lista_nombre = [\"ana\", \"jUAn\", \"LuIs\"]\n",
    "\n",
    "def formateo_nombre (nombres):\n",
    "    lista_mayus= []\n",
    "    for i in lista_nombre:\n",
    "        nombre_formateado = i.capitalize()\n",
    "        lista_mayus.append (nombre_formateado)\n",
    "    return lista_mayus\n",
    "\n",
    "formateo_nombre (lista_nombre)"
   ]
  },
  {
   "cell_type": "markdown",
   "metadata": {},
   "source": [
    "## 3. `match_result()`\n",
    "Dada una lista de tuplas con dos números cada una, donde cada número representa el puntaje de dos equipos en un partido, determina el resultado del partido. \n",
    "\n",
    "**Input:**\n",
    "- Una lista de tuplas de enteros, por ejemplo: `[(3, 1), (2, 2), (1, 4)]`\n",
    "\n",
    "**Output esperado:**\n",
    "- Una lista de strings con el resultado para cada partida, por ejemplo: `[\"ganador\", \"empate\", \"perdedor\"]`"
   ]
  },
  {
   "cell_type": "code",
   "execution_count": 11,
   "metadata": {},
   "outputs": [
    {
     "data": {
      "text/plain": [
       "['ganador', 'empate', 'perdedor']"
      ]
     },
     "execution_count": 11,
     "metadata": {},
     "output_type": "execute_result"
    }
   ],
   "source": [
    "partido1 = (3, 1)\n",
    "partido2 = (2, 2)\n",
    "partido3 = (1, 4)\n",
    "\n",
    "lista_partidos = [partido1,partido2,partido3]\n",
    "lista_partidos\n",
    "\n",
    "def resultado_con_nombre (input_resultados):\n",
    "    resultado = []\n",
    "    for i in input_resultados:\n",
    "        if i[0] > i [1]:\n",
    "             resultado.append (\"ganador\")\n",
    "        elif i[0] < i [1]:\n",
    "             resultado.append (\"perdedor\")\n",
    "        else :\n",
    "             resultado.append (\"empate\")\n",
    "    return resultado\n",
    "\n",
    "\n",
    "resultado_con_nombre (lista_partidos)\n",
    "\n",
    "\n",
    "\n",
    "\n"
   ]
  },
  {
   "cell_type": "markdown",
   "metadata": {},
   "source": [
    "## 4. `what_is_between()`\n",
    "Crea una lista con todos los números enteros entre dos valores dados, incluyendo ambos extremos.\n",
    "\n",
    "**Input:**\n",
    "- Dos números enteros, por ejemplo: `3` y `7`\n",
    "\n",
    "**Output esperado:**\n",
    "- Una lista de enteros entre los valores dados, por ejemplo: `[3, 4, 5, 6, 7]`"
   ]
  },
  {
   "cell_type": "code",
   "execution_count": null,
   "metadata": {},
   "outputs": [
    {
     "data": {
      "text/plain": [
       "[3, 4, 5, 6, 7]"
      ]
     },
     "execution_count": 16,
     "metadata": {},
     "output_type": "execute_result"
    }
   ],
   "source": [
    "numero1 = 3\n",
    "numero2 = 7\n",
    "\n",
    "lista_vacia= []\n",
    "\n",
    "def between_numero (valor1, valor2):\n",
    "    while valor1 <= valor2:\n",
    "        lista_vacia.append (valor1)\n",
    "        valor1 +=1\n",
    "    return lista_vacia\n",
    "\n",
    "\n",
    "between_numero (numero1, numero2)\n",
    "\n"
   ]
  },
  {
   "cell_type": "markdown",
   "metadata": {},
   "source": [
    "## 5. `es_mayus()`\n",
    "Dado un string, verifica si todas sus letras están en mayúsculas. Ignora los espacios para que no afecten el resultado.\n",
    "\n",
    "**Input:**\n",
    "- Un string, por ejemplo: `\"HOLA MUNDO\"`\n",
    "\n",
    "**Output esperado:**\n",
    "- `True` si todas las letras están en mayúsculas, `False` en caso contrario."
   ]
  },
  {
   "cell_type": "code",
   "execution_count": 27,
   "metadata": {},
   "outputs": [
    {
     "data": {
      "text/plain": [
       "True"
      ]
     },
     "execution_count": 27,
     "metadata": {},
     "output_type": "execute_result"
    }
   ],
   "source": [
    "input = \"HOLA MUNDO\"\n",
    "\n",
    "resultado = input.isupper()\n",
    "\n",
    "resultado\n",
    "    "
   ]
  },
  {
   "cell_type": "markdown",
   "metadata": {},
   "source": [
    "## 6. `cuanta_comida_en_mochila()`\n",
    "Dadas dos listas: una llamada `comida` con los alimentos que quieres comprobar y otra llamada `nevera` con los alimentos que tienes, cuenta cuántos de los alimentos de `comida` se encuentran en `nevera`.\n",
    "\n",
    "**Input:**\n",
    "- Dos listas de strings, por ejemplo: `[\"manzanas\", \"leche\", \"pan\"]` y `[\"pan\", \"queso\", \"leche\"]`\n",
    "\n",
    "**Output esperado:**\n",
    "- Un número entero que representa cuántos elementos de `comida` están en `nevera`, por ejemplo: `2`"
   ]
  },
  {
   "cell_type": "code",
   "execution_count": 27,
   "metadata": {},
   "outputs": [
    {
     "data": {
      "text/plain": [
       "2"
      ]
     },
     "execution_count": 27,
     "metadata": {},
     "output_type": "execute_result"
    }
   ],
   "source": [
    "comida = [\"manzanas\", \"leche\", \"pan\"] \n",
    "nevera = [\"pan\", \"queso\", \"leche\"]\n",
    "\n",
    "def cuanta_comida(lista1, lista2):\n",
    "    contador = 0\n",
    "    for i in lista2:\n",
    "        if i in lista1:\n",
    "            contador += 1\n",
    "    \n",
    "    return contador\n",
    "\n",
    "cuanta_comida (comida, nevera)"
   ]
  },
  {
   "cell_type": "markdown",
   "metadata": {},
   "source": [
    "## 7. `añadir_apellido()`\n",
    "Dado un diccionario que representa a una persona con claves como \"nombre\" y \"edad\", añade una nueva clave llamada \"apellido\" con un valor proporcionado.\n",
    "\n",
    "**Input:**\n",
    "- Un diccionario, por ejemplo: `{\"nombre\": \"Juan\", \"edad\": 30}`\n",
    "- Un string con el apellido, por ejemplo: `\"García\"`\n",
    "\n",
    "**Output esperado:**\n",
    "- El diccionario actualizado, por ejemplo: `{\"nombre\": \"Juan\", \"edad\": 30, \"apellido\": \"García\"}`\n",
    "\n"
   ]
  },
  {
   "cell_type": "code",
   "execution_count": 4,
   "metadata": {},
   "outputs": [
    {
     "data": {
      "text/plain": [
       "{'nombre': 'Juan', 'edad': 30, 'apellido': 'García'}"
      ]
     },
     "execution_count": 4,
     "metadata": {},
     "output_type": "execute_result"
    }
   ],
   "source": [
    "persona = {\"nombre\": \"Juan\", \n",
    "           \"edad\": 30}\n",
    "type(persona)\n",
    "\n",
    "persona.update ({\"apellido\": \"García\"})\n",
    "\n",
    "persona\n",
    "\n"
   ]
  },
  {
   "cell_type": "markdown",
   "metadata": {},
   "source": [
    "## 8. `corregir_nombre_socio()`\n",
    "Dado un diccionario con un nombre incorrecto (por ejemplo, letras mezcladas o en minúsculas), revisa y corrige cada letra del nombre basándote en una versión de referencia correcta. La función debería trabajar para un solo diccionario y luego reutilizarse para corregir una lista de diccionarios de nombres.\n",
    "\n",
    "**Input:**\n",
    "- Un diccionario, por ejemplo: `{\"nombre\": \"jUn\", \"edad\": 40}`\n",
    "- Un string con el nombre correcto, por ejemplo: `\"Juan\"`\n",
    "\n",
    "**Output esperado:**\n",
    "- El diccionario con el nombre corregido, por ejemplo: `{\"nombre\": \"Juan\", \"edad\": 40}`"
   ]
  },
  {
   "cell_type": "code",
   "execution_count": 7,
   "metadata": {},
   "outputs": [
    {
     "data": {
      "text/plain": [
       "{'nombre': 'Juan', 'edad': 40}"
      ]
     },
     "execution_count": 7,
     "metadata": {},
     "output_type": "execute_result"
    }
   ],
   "source": [
    "\n",
    "def actualizar_diccionario (diccionario, nombre_correcto):\n",
    "    for i in diccionario:\n",
    "        if diccionario [\"nombre\"] != nombre_correcto:\n",
    "            diccionario.update ({\"nombre\": nombre_correcto})\n",
    "    return diccionario\n",
    "\n",
    "diccionario1 = {\"nombre\": \"jUn\", \"edad\": 40}\n",
    "nombre_correcto1 = \"Juan\"\n",
    "actualizar_diccionario (diccionario1, nombre_correcto1)"
   ]
  },
  {
   "cell_type": "markdown",
   "metadata": {},
   "source": [
    "## 9. `crear_diccionario_notas()`\n",
    "Crea un diccionario que almacene nombres de estudiantes como claves y sus notas como valores. Puedes usar `zip()` para combinar dos listas: una de nombres y otra de notas.\n",
    "\n",
    "**Input:**\n",
    "- Dos listas, una con nombres de estudiantes (por ejemplo: `[\"Ana\", \"Luis\", \"Maria\"]`) y otra con sus notas (por ejemplo: `[85, 90, 78]`).\n",
    "\n",
    "**Output esperado:**\n",
    "- Un diccionario donde cada nombre está asociado a su nota, por ejemplo: `{\"Ana\": 85, \"Luis\": 90, \"Maria\": 78}`"
   ]
  },
  {
   "cell_type": "code",
   "execution_count": 13,
   "metadata": {},
   "outputs": [
    {
     "name": "stdout",
     "output_type": "stream",
     "text": [
      "<class 'list'>\n",
      "<class 'list'>\n"
     ]
    },
    {
     "data": {
      "text/plain": [
       "{'Ana': 85, 'Luis': 90, 'Maria': 78}"
      ]
     },
     "execution_count": 13,
     "metadata": {},
     "output_type": "execute_result"
    }
   ],
   "source": [
    "lista_nombre = [\"Ana\", \"Luis\", \"Maria\"]\n",
    "lista_edad = [85, 90, 78]\n",
    "print(type(lista_nombre))\n",
    "print(type(lista_edad))\n",
    "\n",
    "lista_combinada = zip (lista_nombre, lista_edad)\n",
    "diccionario = dict(lista_combinada)\n",
    "diccionario\n"
   ]
  },
  {
   "cell_type": "markdown",
   "metadata": {},
   "source": [
    "## 10. `crear_diccionario_notas_tupla()`\n",
    "Similar al ejercicio anterior, pero aquí la información de los estudiantes y sus notas viene en una lista de tuplas. Cada tupla contiene el nombre y la nota de un estudiante.\n",
    "\n",
    "**Input:**\n",
    "- Una lista de tuplas, por ejemplo: `[(\"Ana\", 85), (\"Luis\", 90), (\"Maria\", 78)]`\n",
    "\n",
    "**Output esperado:**\n",
    "- Un diccionario donde cada nombre está asociado a su nota, por ejemplo: `{\"Ana\": 85, \"Luis\": 90, \"Maria\": 78}`"
   ]
  },
  {
   "cell_type": "code",
   "execution_count": 10,
   "metadata": {},
   "outputs": [
    {
     "name": "stdout",
     "output_type": "stream",
     "text": [
      "('Ana', 85)\n",
      "('Luis', 90)\n",
      "('Maria', 78)\n"
     ]
    },
    {
     "data": {
      "text/plain": [
       "{'Ana': 85, 'Luis': 90, 'Maria': 78}"
      ]
     },
     "execution_count": 10,
     "metadata": {},
     "output_type": "execute_result"
    }
   ],
   "source": [
    "tupla1 = (\"Ana\", 85)\n",
    "print(tupla1)\n",
    "tupla2 = (\"Luis\", 90)\n",
    "print(tupla2)\n",
    "tupla3  = (\"Maria\", 78)\n",
    "print(tupla3)\n",
    "\n",
    "lista_tuplas = [tupla1, tupla2, tupla3]\n",
    "lista_tuplas\n",
    "\n",
    "diccionario = dict (lista_tuplas)\n",
    "\n",
    "diccionario\n",
    "\n",
    " \n"
   ]
  }
 ],
 "metadata": {
  "kernelspec": {
   "display_name": "Python 3",
   "language": "python",
   "name": "python3"
  },
  "language_info": {
   "codemirror_mode": {
    "name": "ipython",
    "version": 3
   },
   "file_extension": ".py",
   "mimetype": "text/x-python",
   "name": "python",
   "nbconvert_exporter": "python",
   "pygments_lexer": "ipython3",
   "version": "3.12.6"
  }
 },
 "nbformat": 4,
 "nbformat_minor": 2
}
